{
  "nbformat": 4,
  "nbformat_minor": 0,
  "metadata": {
    "kernelspec": {
      "display_name": "Python 3",
      "language": "python",
      "name": "python3"
    },
    "language_info": {
      "codemirror_mode": {
        "name": "ipython",
        "version": 3
      },
      "file_extension": ".py",
      "mimetype": "text/x-python",
      "name": "python",
      "nbconvert_exporter": "python",
      "pygments_lexer": "ipython3",
      "version": "3.6.6"
    },
    "colab": {
      "provenance": [],
      "toc_visible": true
    },
    "widgets": {
      "application/vnd.jupyter.widget-state+json": {
        "8a97614c1ae14953ba2ee94f7ebbab06": {
          "model_module": "@jupyter-widgets/controls",
          "model_name": "HBoxModel",
          "state": {
            "_view_name": "HBoxView",
            "_dom_classes": [],
            "_model_name": "HBoxModel",
            "_view_module": "@jupyter-widgets/controls",
            "_model_module_version": "1.5.0",
            "_view_count": null,
            "_view_module_version": "1.5.0",
            "box_style": "",
            "layout": "IPY_MODEL_f9a1defe3b6c44b398266670965c3fcd",
            "_model_module": "@jupyter-widgets/controls",
            "children": [
              "IPY_MODEL_a5e2dac7e15346d3b5e542ea7bd3c9de",
              "IPY_MODEL_ca97722fb004497aa657344b389a0386"
            ]
          },
          "model_module_version": "1.5.0"
        },
        "f9a1defe3b6c44b398266670965c3fcd": {
          "model_module": "@jupyter-widgets/base",
          "model_name": "LayoutModel",
          "state": {
            "_view_name": "LayoutView",
            "grid_template_rows": null,
            "right": null,
            "justify_content": null,
            "_view_module": "@jupyter-widgets/base",
            "overflow": null,
            "_model_module_version": "1.2.0",
            "_view_count": null,
            "flex_flow": null,
            "width": null,
            "min_width": null,
            "border": null,
            "align_items": null,
            "bottom": null,
            "_model_module": "@jupyter-widgets/base",
            "top": null,
            "grid_column": null,
            "overflow_y": null,
            "overflow_x": null,
            "grid_auto_flow": null,
            "grid_area": null,
            "grid_template_columns": null,
            "flex": null,
            "_model_name": "LayoutModel",
            "justify_items": null,
            "grid_row": null,
            "max_height": null,
            "align_content": null,
            "visibility": null,
            "align_self": null,
            "height": null,
            "min_height": null,
            "padding": null,
            "grid_auto_rows": null,
            "grid_gap": null,
            "max_width": null,
            "order": null,
            "_view_module_version": "1.2.0",
            "grid_template_areas": null,
            "object_position": null,
            "object_fit": null,
            "grid_auto_columns": null,
            "margin": null,
            "display": null,
            "left": null
          },
          "model_module_version": "1.2.0"
        },
        "a5e2dac7e15346d3b5e542ea7bd3c9de": {
          "model_module": "@jupyter-widgets/controls",
          "model_name": "FloatProgressModel",
          "state": {
            "_view_name": "ProgressView",
            "style": "IPY_MODEL_9242145cd77e45fdba6edc82eb97129e",
            "_dom_classes": [],
            "description": "100%",
            "_model_name": "FloatProgressModel",
            "bar_style": "success",
            "max": 574673361,
            "_view_module": "@jupyter-widgets/controls",
            "_model_module_version": "1.5.0",
            "value": 574673361,
            "_view_count": null,
            "_view_module_version": "1.5.0",
            "orientation": "horizontal",
            "min": 0,
            "description_tooltip": null,
            "_model_module": "@jupyter-widgets/controls",
            "layout": "IPY_MODEL_2592bcb0cf8b462683353d90f8d31c11"
          },
          "model_module_version": "1.5.0"
        },
        "ca97722fb004497aa657344b389a0386": {
          "model_module": "@jupyter-widgets/controls",
          "model_name": "HTMLModel",
          "state": {
            "_view_name": "HTMLView",
            "style": "IPY_MODEL_8f4e3caf0c124a41a3cdc0a1216757cc",
            "_dom_classes": [],
            "description": "",
            "_model_name": "HTMLModel",
            "placeholder": "​",
            "_view_module": "@jupyter-widgets/controls",
            "_model_module_version": "1.5.0",
            "value": " 548M/548M [13:16&lt;00:00, 722kB/s]",
            "_view_count": null,
            "_view_module_version": "1.5.0",
            "description_tooltip": null,
            "_model_module": "@jupyter-widgets/controls",
            "layout": "IPY_MODEL_928767e3d1bb4bae849bcbdac8efb68f"
          },
          "model_module_version": "1.5.0"
        },
        "9242145cd77e45fdba6edc82eb97129e": {
          "model_module": "@jupyter-widgets/controls",
          "model_name": "ProgressStyleModel",
          "state": {
            "_view_name": "StyleView",
            "_model_name": "ProgressStyleModel",
            "description_width": "initial",
            "_view_module": "@jupyter-widgets/base",
            "_model_module_version": "1.5.0",
            "_view_count": null,
            "_view_module_version": "1.2.0",
            "bar_color": null,
            "_model_module": "@jupyter-widgets/controls"
          },
          "model_module_version": "1.5.0"
        },
        "2592bcb0cf8b462683353d90f8d31c11": {
          "model_module": "@jupyter-widgets/base",
          "model_name": "LayoutModel",
          "state": {
            "_view_name": "LayoutView",
            "grid_template_rows": null,
            "right": null,
            "justify_content": null,
            "_view_module": "@jupyter-widgets/base",
            "overflow": null,
            "_model_module_version": "1.2.0",
            "_view_count": null,
            "flex_flow": null,
            "width": null,
            "min_width": null,
            "border": null,
            "align_items": null,
            "bottom": null,
            "_model_module": "@jupyter-widgets/base",
            "top": null,
            "grid_column": null,
            "overflow_y": null,
            "overflow_x": null,
            "grid_auto_flow": null,
            "grid_area": null,
            "grid_template_columns": null,
            "flex": null,
            "_model_name": "LayoutModel",
            "justify_items": null,
            "grid_row": null,
            "max_height": null,
            "align_content": null,
            "visibility": null,
            "align_self": null,
            "height": null,
            "min_height": null,
            "padding": null,
            "grid_auto_rows": null,
            "grid_gap": null,
            "max_width": null,
            "order": null,
            "_view_module_version": "1.2.0",
            "grid_template_areas": null,
            "object_position": null,
            "object_fit": null,
            "grid_auto_columns": null,
            "margin": null,
            "display": null,
            "left": null
          },
          "model_module_version": "1.2.0"
        },
        "8f4e3caf0c124a41a3cdc0a1216757cc": {
          "model_module": "@jupyter-widgets/controls",
          "model_name": "DescriptionStyleModel",
          "state": {
            "_view_name": "StyleView",
            "_model_name": "DescriptionStyleModel",
            "description_width": "",
            "_view_module": "@jupyter-widgets/base",
            "_model_module_version": "1.5.0",
            "_view_count": null,
            "_view_module_version": "1.2.0",
            "_model_module": "@jupyter-widgets/controls"
          },
          "model_module_version": "1.5.0"
        },
        "928767e3d1bb4bae849bcbdac8efb68f": {
          "model_module": "@jupyter-widgets/base",
          "model_name": "LayoutModel",
          "state": {
            "_view_name": "LayoutView",
            "grid_template_rows": null,
            "right": null,
            "justify_content": null,
            "_view_module": "@jupyter-widgets/base",
            "overflow": null,
            "_model_module_version": "1.2.0",
            "_view_count": null,
            "flex_flow": null,
            "width": null,
            "min_width": null,
            "border": null,
            "align_items": null,
            "bottom": null,
            "_model_module": "@jupyter-widgets/base",
            "top": null,
            "grid_column": null,
            "overflow_y": null,
            "overflow_x": null,
            "grid_auto_flow": null,
            "grid_area": null,
            "grid_template_columns": null,
            "flex": null,
            "_model_name": "LayoutModel",
            "justify_items": null,
            "grid_row": null,
            "max_height": null,
            "align_content": null,
            "visibility": null,
            "align_self": null,
            "height": null,
            "min_height": null,
            "padding": null,
            "grid_auto_rows": null,
            "grid_gap": null,
            "max_width": null,
            "order": null,
            "_view_module_version": "1.2.0",
            "grid_template_areas": null,
            "object_position": null,
            "object_fit": null,
            "grid_auto_columns": null,
            "margin": null,
            "display": null,
            "left": null
          },
          "model_module_version": "1.2.0"
        }
      }
    }
  },
  "cells": [
    {
      "cell_type": "code",
      "metadata": {
        "id": "5A3FbCbdE3re"
      },
      "source": [
        "%matplotlib inline"
      ],
      "execution_count": null,
      "outputs": []
    },
    {
      "cell_type": "markdown",
      "metadata": {
        "id": "LiCmOrNTE3rk"
      },
      "source": [
        "\n",
        "Batch Neural Transfer Using PyTorch\n",
        "=============================\n",
        "\n",
        "**This Version Developed by `Josh Urban Davis (www.joshurbandavis.com)`\n",
        "\n",
        "This notebook runs batches of images to perform neural style transfer on a collection of source images and a collection of target images. It is a generalization of the tutorial by **Author**: `Alexis Jacq <https://alexis-jacq.github.io>`. Changes from the original include adaptation of the batch transfer method described above as well as alterations mentioned in the documentation. Different models can be introduced. For a collection of publically available models, please see Josh Urban Davis' GitHub.\n",
        "\n",
        "Introduction\n",
        "------------\n",
        "\n",
        "This tutorial explains how to implement the `Neural-Style algorithm <https://arxiv.org/abs/1508.06576>`__\n",
        "developed by Leon A. Gatys, Alexander S. Ecker and Matthias Bethge.\n",
        "Neural-Style, or Neural-Transfer, allows you to take an image and\n",
        "reproduce it with a new artistic style. The algorithm takes three images,\n",
        "an input image, a content-image, and a style-image, and changes the input\n",
        "to resemble the content of the content-image and the artistic style of the style-image.\n",
        "\n",
        "\n",
        ".. figure:: /_static/img/neural-style/neuralstyle.png\n",
        "   :alt: content1\n",
        "\n"
      ]
    },
    {
      "cell_type": "markdown",
      "metadata": {
        "id": "Af5kS6EsE3rp"
      },
      "source": [
        "Underlying Principle\n",
        "--------------------\n",
        "\n",
        "The principle is simple: we define two distances, one for the content\n",
        "($D_C$) and one for the style ($D_S$). $D_C$ measures how different the content\n",
        "is between two images while $D_S$ measures how different the style is\n",
        "between two images. Then, we take a third image, the input, and\n",
        "transform it to minimize both its content-distance with the\n",
        "content-image and its style-distance with the style-image. Now we can\n",
        "import the necessary packages and begin the neural transfer.\n",
        "\n",
        "Importing Packages and Selecting a Device\n",
        "-----------------------------------------\n",
        "Below is a  list of the packages needed to implement the neural transfer.\n",
        "\n",
        "-  ``torch``, ``torch.nn``, ``numpy`` (indispensables packages for\n",
        "   neural networks with PyTorch)\n",
        "-  ``torch.optim`` (efficient gradient descents)\n",
        "-  ``PIL``, ``PIL.Image``, ``matplotlib.pyplot`` (load and display\n",
        "   images)\n",
        "-  ``torchvision.transforms`` (transform PIL images into tensors)\n",
        "-  ``torchvision.models`` (train or load pre-trained models)\n",
        "-  ``copy`` (to deep copy the models; system package)\n",
        "\n"
      ]
    },
    {
      "cell_type": "code",
      "metadata": {
        "id": "HgGksz70E3rr"
      },
      "source": [
        "from __future__ import print_function\n",
        "\n",
        "import torch\n",
        "import torch.nn as nn\n",
        "import torch.nn.functional as F\n",
        "import torch.optim as optim\n",
        "\n",
        "from PIL import Image\n",
        "import matplotlib.pyplot as plt\n",
        "\n",
        "import torchvision.transforms as transforms\n",
        "import torchvision.models as models\n",
        "\n",
        "import copy"
      ],
      "execution_count": null,
      "outputs": []
    },
    {
      "cell_type": "markdown",
      "metadata": {
        "id": "iJfypCpwE3rv"
      },
      "source": [
        "Next, we need to choose which device to run the network on and import the\n",
        "content and style images. Running the neural transfer algorithm on large\n",
        "images takes longer and will go much faster when running on a GPU. We can\n",
        "use ``torch.cuda.is_available()`` to detect if there is a GPU available.\n",
        "Next, we set the ``torch.device`` for use throughout the tutorial. Also the ``.to(device)``\n",
        "method is used to move tensors or modules to a desired device.\n",
        "\n"
      ]
    },
    {
      "cell_type": "code",
      "metadata": {
        "id": "dvNPGyEDE3rw"
      },
      "source": [
        "device = torch.device(\"cuda\" if torch.cuda.is_available() else \"cpu\")"
      ],
      "execution_count": null,
      "outputs": []
    },
    {
      "cell_type": "markdown",
      "metadata": {
        "id": "yV4sWU2kE3r1"
      },
      "source": [
        "Loading the Images\n",
        "------------------\n",
        "\n",
        "Now we will import the style and content images. The original PIL images have values between 0 and 255, but when\n",
        "transformed into torch tensors, their values are converted to be between\n",
        "0 and 1. The images also need to be resized to have the same dimensions.\n",
        "An important detail to note is that neural networks from the\n",
        "torch library are trained with tensor values ranging from 0 to 1. If you\n",
        "try to feed the networks with 0 to 255 tensor images, then the activated\n",
        "feature maps will be unable sense the intended content and style.\n",
        "However, pre-trained networks from the Caffe library are trained with 0\n",
        "to 255 tensor images.\n",
        "\n",
        "\n",
        ".. Note::\n",
        "    Here are links to download the images required to run the tutorial:\n",
        "    `picasso.jpg <http://pytorch.org/tutorials/_static/img/neural-style/picasso.jpg>`__ and\n",
        "    `dancing.jpg <http://pytorch.org/tutorials/_static/img/neural-style/dancing.jpg>`__.\n",
        "    Download these two images and add them to a directory\n",
        "    with name ``images`` in your current working directory.\n",
        "\n"
      ]
    },
    {
      "cell_type": "code",
      "metadata": {
        "id": "5K3QjHVuE3r2"
      },
      "source": [
        "# desired size of the output image\n",
        "imsize = 512\n",
        "#if torch.cuda.is_available() else 128  # use small size if no gpu\n",
        "\n",
        "loader = transforms.Compose([\n",
        "    transforms.Resize(imsize),  # scale imported image\n",
        "    transforms.ToTensor()])  # transform it into a torch tensor\n",
        "\n",
        "\n",
        "def image_loader(image_name):\n",
        "    image = Image.open(image_name)\n",
        "    # fake batch dimension required to fit network's input dimensions\n",
        "    image = loader(image).unsqueeze(0)\n",
        "    return image.to(device, torch.float)\n",
        "\n",
        "\n",
        "#style_img = image_loader(\"./images/picasso.jpg\")\n",
        "#content_img = image_loader(\"./images/dancing.jpg\")\n",
        "\n",
        "#assert style_img.size() == content_img.size(), \\\n",
        "    #\"we need to import style and content images of the same size\""
      ],
      "execution_count": null,
      "outputs": []
    },
    {
      "cell_type": "code",
      "metadata": {
        "id": "sM0KGbQ-JM6B",
        "colab": {
          "base_uri": "https://localhost:8080/"
        },
        "outputId": "ed108dff-d3f7-48f2-f834-422665857244"
      },
      "source": [
        "torch.cuda.is_available()"
      ],
      "execution_count": null,
      "outputs": [
        {
          "output_type": "execute_result",
          "data": {
            "text/plain": [
              "False"
            ]
          },
          "metadata": {
            "tags": []
          },
          "execution_count": 5
        }
      ]
    },
    {
      "cell_type": "markdown",
      "metadata": {
        "id": "d3zdW3O-E3r5"
      },
      "source": [
        "Now, let's create a function that displays an image by reconverting a\n",
        "copy of it to PIL format and displaying the copy using\n",
        "``plt.imshow``. We will try displaying the content and style images\n",
        "to ensure they were imported correctly.\n",
        "\n"
      ]
    },
    {
      "cell_type": "code",
      "metadata": {
        "id": "xHWSoFgdE3r5"
      },
      "source": [
        "unloader = transforms.ToPILImage()  # reconvert into PIL image\n",
        "\n",
        "plt.ion()\n",
        "\n",
        "def imshow(tensor, title=None):\n",
        "    image = tensor.cpu().clone()  # we clone the tensor to not do changes on it\n",
        "    image = image.squeeze(0)      # remove the fake batch dimension\n",
        "    image = unloader(image)\n",
        "    plt.imshow(image)\n",
        "    if title is not None:\n",
        "        plt.title(title)\n",
        "    plt.pause(0.001) # pause a bit so that plots are updated\n",
        "\n",
        "\n",
        "#plt.figure()\n",
        "#imshow(style_img, title='Style Image')\n",
        "\n",
        "#plt.figure()\n",
        "#imshow(content_img, title='Content Image')"
      ],
      "execution_count": null,
      "outputs": []
    },
    {
      "cell_type": "markdown",
      "metadata": {
        "id": "I2IA0CAhE3r-"
      },
      "source": [
        "Loss Functions\n",
        "--------------\n",
        "Content Loss\n",
        "~~~~~~~~~~~~\n",
        "\n",
        "The content loss is a function that represents a weighted version of the\n",
        "content distance for an individual layer. The function takes the feature\n",
        "maps $F_{XL}$ of a layer $L$ in a network processing input $X$ and returns the\n",
        "weighted content distance $w_{CL}.D_C^L(X,C)$ between the image $X$ and the\n",
        "content image $C$. The feature maps of the content image($F_{CL}$) must be\n",
        "known by the function in order to calculate the content distance. We\n",
        "implement this function as a torch module with a constructor that takes\n",
        "$F_{CL}$ as an input. The distance $\\|F_{XL} - F_{CL}\\|^2$ is the mean square error\n",
        "between the two sets of feature maps, and can be computed using ``nn.MSELoss``.\n",
        "\n",
        "We will add this content loss module directly after the convolution\n",
        "layer(s) that are being used to compute the content distance. This way\n",
        "each time the network is fed an input image the content losses will be\n",
        "computed at the desired layers and because of auto grad, all the\n",
        "gradients will be computed. Now, in order to make the content loss layer\n",
        "transparent we must define a ``forward`` method that computes the content\n",
        "loss and then returns the layer’s input. The computed loss is saved as a\n",
        "parameter of the module.\n",
        "\n",
        "\n"
      ]
    },
    {
      "cell_type": "code",
      "metadata": {
        "id": "p0GAJ8nZE3r-"
      },
      "source": [
        "class ContentLoss(nn.Module):\n",
        "\n",
        "    def __init__(self, target,):\n",
        "        super(ContentLoss, self).__init__()\n",
        "        # we 'detach' the target content from the tree used\n",
        "        # to dynamically compute the gradient: this is a stated value,\n",
        "        # not a variable. Otherwise the forward method of the criterion\n",
        "        # will throw an error.\n",
        "        self.target = target.detach()\n",
        "\n",
        "    def forward(self, input):\n",
        "        self.loss = F.mse_loss(input, self.target)\n",
        "        return input"
      ],
      "execution_count": null,
      "outputs": []
    },
    {
      "cell_type": "markdown",
      "metadata": {
        "id": "Euww-sf5E3sC"
      },
      "source": [
        ".. Note::\n",
        "   **Important detail**: although this module is named ``ContentLoss``, it\n",
        "   is not a true PyTorch Loss function. If you want to define your content\n",
        "   loss as a PyTorch Loss function, you have to create a PyTorch autograd function\n",
        "   to recompute/implement the gradient manually in the ``backward``\n",
        "   method.\n",
        "\n"
      ]
    },
    {
      "cell_type": "markdown",
      "metadata": {
        "id": "ZMM_4XjHE3sE"
      },
      "source": [
        "Style Loss\n",
        "~~~~~~~~~~\n",
        "\n",
        "The style loss module is implemented similarly to the content loss\n",
        "module. It will act as a transparent layer in a\n",
        "network that computes the style loss of that layer. In order to\n",
        "calculate the style loss, we need to compute the gram matrix $G_{XL}$. A gram\n",
        "matrix is the result of multiplying a given matrix by its transposed\n",
        "matrix. In this application the given matrix is a reshaped version of\n",
        "the feature maps $F_{XL}$ of a layer $L$. $F_{XL}$ is reshaped to form $\\hat{F}_{XL}$, a $K$\\ x\\ $N$\n",
        "matrix, where $K$ is the number of feature maps at layer $L$ and $N$ is the\n",
        "length of any vectorized feature map $F_{XL}^k$. For example, the first line\n",
        "of $\\hat{F}_{XL}$ corresponds to the first vectorized feature map $F_{XL}^1$.\n",
        "\n",
        "Finally, the gram matrix must be normalized by dividing each element by\n",
        "the total number of elements in the matrix. This normalization is to\n",
        "counteract the fact that $\\hat{F}_{XL}$ matrices with a large $N$ dimension yield\n",
        "larger values in the Gram matrix. These larger values will cause the\n",
        "first layers (before pooling layers) to have a larger impact during the\n",
        "gradient descent. Style features tend to be in the deeper layers of the\n",
        "network so this normalization step is crucial.\n",
        "\n",
        "\n"
      ]
    },
    {
      "cell_type": "code",
      "metadata": {
        "id": "MMVlCwnsE3sE"
      },
      "source": [
        "def gram_matrix(input):\n",
        "    a, b, c, d = input.size()  # a=batch size(=1)\n",
        "    # b=number of feature maps\n",
        "    # (c,d)=dimensions of a f. map (N=c*d)\n",
        "\n",
        "    features = input.view(a * b, c * d)  # resise F_XL into \\hat F_XL\n",
        "\n",
        "    G = torch.mm(features, features.t())  # compute the gram product\n",
        "\n",
        "    # we 'normalize' the values of the gram matrix\n",
        "    # by dividing by the number of element in each feature maps.\n",
        "    return G.div(a * b * c * d)"
      ],
      "execution_count": null,
      "outputs": []
    },
    {
      "cell_type": "markdown",
      "metadata": {
        "id": "EWys4bt1E3sH"
      },
      "source": [
        "Now the style loss module looks almost exactly like the content loss\n",
        "module. The style distance is also computed using the mean square\n",
        "error between $G_{XL}$ and $G_{SL}$.\n",
        "\n",
        "\n"
      ]
    },
    {
      "cell_type": "code",
      "metadata": {
        "id": "PWVpFinyE3sI"
      },
      "source": [
        "class StyleLoss(nn.Module):\n",
        "\n",
        "    def __init__(self, target_feature):\n",
        "        super(StyleLoss, self).__init__()\n",
        "        self.target = gram_matrix(target_feature).detach()\n",
        "\n",
        "    def forward(self, input):\n",
        "        G = gram_matrix(input)\n",
        "        self.loss = F.mse_loss(G, self.target)\n",
        "        return input"
      ],
      "execution_count": null,
      "outputs": []
    },
    {
      "cell_type": "markdown",
      "metadata": {
        "id": "5mqXlaiaE3sL"
      },
      "source": [
        "Importing the Model\n",
        "-------------------\n",
        "\n",
        "Now we need to import a pre-trained neural network. We will use a 19\n",
        "layer VGG network like the one used in the paper.\n",
        "\n",
        "PyTorch’s implementation of VGG is a module divided into two child\n",
        "``Sequential`` modules: ``features`` (containing convolution and pooling layers),\n",
        "and ``classifier`` (containing fully connected layers). We will use the\n",
        "``features`` module because we need the output of the individual\n",
        "convolution layers to measure content and style loss. Some layers have\n",
        "different behavior during training than evaluation, so we must set the\n",
        "network to evaluation mode using ``.eval()``.\n",
        "\n",
        "\n"
      ]
    },
    {
      "cell_type": "code",
      "metadata": {
        "id": "SUU9T_KmE3sL",
        "colab": {
          "base_uri": "https://localhost:8080/",
          "height": 83,
          "referenced_widgets": [
            "8a97614c1ae14953ba2ee94f7ebbab06",
            "f9a1defe3b6c44b398266670965c3fcd",
            "a5e2dac7e15346d3b5e542ea7bd3c9de",
            "ca97722fb004497aa657344b389a0386",
            "9242145cd77e45fdba6edc82eb97129e",
            "2592bcb0cf8b462683353d90f8d31c11",
            "8f4e3caf0c124a41a3cdc0a1216757cc",
            "928767e3d1bb4bae849bcbdac8efb68f"
          ]
        },
        "outputId": "91a2958d-89d1-4869-96a2-87e8e98648c0"
      },
      "source": [
        "cnn = models.vgg19(pretrained=True).features.to(device).eval()"
      ],
      "execution_count": null,
      "outputs": [
        {
          "output_type": "stream",
          "text": [
            "Downloading: \"https://download.pytorch.org/models/vgg19-dcbb9e9d.pth\" to /root/.cache/torch/hub/checkpoints/vgg19-dcbb9e9d.pth\n"
          ],
          "name": "stderr"
        },
        {
          "output_type": "display_data",
          "data": {
            "application/vnd.jupyter.widget-view+json": {
              "model_id": "8a97614c1ae14953ba2ee94f7ebbab06",
              "version_minor": 0,
              "version_major": 2
            },
            "text/plain": [
              "HBox(children=(FloatProgress(value=0.0, max=574673361.0), HTML(value='')))"
            ]
          },
          "metadata": {
            "tags": []
          }
        },
        {
          "output_type": "stream",
          "text": [
            "\n"
          ],
          "name": "stdout"
        }
      ]
    },
    {
      "cell_type": "markdown",
      "metadata": {
        "id": "EshiupaNE3sS"
      },
      "source": [
        "Additionally, VGG networks are trained on images with each channel\n",
        "normalized by mean=[0.485, 0.456, 0.406] and std=[0.229, 0.224, 0.225].\n",
        "We will use them to normalize the image before sending it into the network.\n",
        "\n",
        "\n"
      ]
    },
    {
      "cell_type": "code",
      "metadata": {
        "id": "dD6HtdzrE3sT"
      },
      "source": [
        "cnn_normalization_mean = torch.tensor([0.485, 0.456, 0.406]).to(device)\n",
        "cnn_normalization_std = torch.tensor([0.229, 0.224, 0.225]).to(device)\n",
        "\n",
        "# create a module to normalize input image so we can easily put it in a\n",
        "# nn.Sequential\n",
        "class Normalization(nn.Module):\n",
        "    def __init__(self, mean, std):\n",
        "        super(Normalization, self).__init__()\n",
        "        # .view the mean and std to make them [C x 1 x 1] so that they can\n",
        "        # directly work with image Tensor of shape [B x C x H x W].\n",
        "        # B is batch size. C is number of channels. H is height and W is width.\n",
        "        self.mean = torch.tensor(mean).view(-1, 1, 1)\n",
        "        self.std = torch.tensor(std).view(-1, 1, 1)\n",
        "\n",
        "    def forward(self, img):\n",
        "        # normalize img\n",
        "        return (img - self.mean) / self.std"
      ],
      "execution_count": null,
      "outputs": []
    },
    {
      "cell_type": "markdown",
      "metadata": {
        "id": "1_fLES0JE3sW"
      },
      "source": [
        "A ``Sequential`` module contains an ordered list of child modules. For\n",
        "instance, ``vgg19.features`` contains a sequence (Conv2d, ReLU, MaxPool2d,\n",
        "Conv2d, ReLU…) aligned in the right order of depth. We need to add our\n",
        "content loss and style loss layers immediately after the convolution\n",
        "layer they are detecting. To do this we must create a new ``Sequential``\n",
        "module that has content loss and style loss modules correctly inserted.\n",
        "\n",
        "\n"
      ]
    },
    {
      "cell_type": "code",
      "metadata": {
        "id": "1Kdx35bSE3sX"
      },
      "source": [
        "# desired depth layers to compute style/content losses :\n",
        "content_layers_default = ['conv_4']\n",
        "style_layers_default = ['conv_1', 'conv_2', 'conv_3', 'conv_4', 'conv_5']\n",
        "\n",
        "def get_style_model_and_losses(cnn, normalization_mean, normalization_std,\n",
        "                               style_img, content_img,\n",
        "                               content_layers=content_layers_default,\n",
        "                               style_layers=style_layers_default):\n",
        "    cnn = copy.deepcopy(cnn)\n",
        "\n",
        "    # normalization module\n",
        "    normalization = Normalization(normalization_mean, normalization_std).to(device)\n",
        "\n",
        "    # just in order to have an iterable access to or list of content/syle\n",
        "    # losses\n",
        "    content_losses = []\n",
        "    style_losses = []\n",
        "\n",
        "    # assuming that cnn is a nn.Sequential, so we make a new nn.Sequential\n",
        "    # to put in modules that are supposed to be activated sequentially\n",
        "    model = nn.Sequential(normalization)\n",
        "\n",
        "    i = 0  # increment every time we see a conv\n",
        "    for layer in cnn.children():\n",
        "        if isinstance(layer, nn.Conv2d):\n",
        "            i += 1\n",
        "            name = 'conv_{}'.format(i)\n",
        "        elif isinstance(layer, nn.ReLU):\n",
        "            name = 'relu_{}'.format(i)\n",
        "            # The in-place version doesn't play very nicely with the ContentLoss\n",
        "            # and StyleLoss we insert below. So we replace with out-of-place\n",
        "            # ones here.\n",
        "            layer = nn.ReLU(inplace=False)\n",
        "        elif isinstance(layer, nn.MaxPool2d):\n",
        "            name = 'pool_{}'.format(i)\n",
        "        elif isinstance(layer, nn.BatchNorm2d):\n",
        "            name = 'bn_{}'.format(i)\n",
        "        else:\n",
        "            raise RuntimeError('Unrecognized layer: {}'.format(layer.__class__.__name__))\n",
        "\n",
        "        model.add_module(name, layer)\n",
        "\n",
        "        if name in content_layers:\n",
        "            # add content loss:\n",
        "            target = model(content_img).detach()\n",
        "            content_loss = ContentLoss(target)\n",
        "            model.add_module(\"content_loss_{}\".format(i), content_loss)\n",
        "            content_losses.append(content_loss)\n",
        "\n",
        "        if name in style_layers:\n",
        "            # add style loss:\n",
        "            target_feature = model(style_img).detach()\n",
        "            style_loss = StyleLoss(target_feature)\n",
        "            model.add_module(\"style_loss_{}\".format(i), style_loss)\n",
        "            style_losses.append(style_loss)\n",
        "\n",
        "    # now we trim off the layers after the last content and style losses\n",
        "    for i in range(len(model) - 1, -1, -1):\n",
        "        if isinstance(model[i], ContentLoss) or isinstance(model[i], StyleLoss):\n",
        "            break\n",
        "\n",
        "    model = model[:(i + 1)]\n",
        "\n",
        "    return model, style_losses, content_losses"
      ],
      "execution_count": null,
      "outputs": []
    },
    {
      "cell_type": "markdown",
      "metadata": {
        "id": "ZDFn2862E3sa"
      },
      "source": [
        "Next, we select the input image. You can use a copy of the content image\n",
        "or white noise.\n",
        "\n",
        "\n"
      ]
    },
    {
      "cell_type": "code",
      "metadata": {
        "id": "31fQpng8E3sc"
      },
      "source": [
        "#input_img = content_img.clone()\n",
        "# if you want to use white noise instead uncomment the below line:\n",
        "# input_img = torch.randn(content_img.data.size(), device=device)\n",
        "\n",
        "# add the original input image to the figure:\n",
        "#plt.figure()\n",
        "#imshow(input_img, title='Input Image')"
      ],
      "execution_count": null,
      "outputs": []
    },
    {
      "cell_type": "markdown",
      "metadata": {
        "id": "_tJhgD_KE3sf"
      },
      "source": [
        "Gradient Descent\n",
        "----------------\n",
        "\n",
        "As Leon Gatys, the author of the algorithm, suggested `here <https://discuss.pytorch.org/t/pytorch-tutorial-for-neural-transfert-of-artistic-style/336/20?u=alexis-jacq>`__, we will use\n",
        "L-BFGS algorithm to run our gradient descent. Unlike training a network,\n",
        "we want to train the input image in order to minimise the content/style\n",
        "losses. We will create a PyTorch L-BFGS optimizer ``optim.LBFGS`` and pass\n",
        "our image to it as the tensor to optimize.\n",
        "\n",
        "\n"
      ]
    },
    {
      "cell_type": "code",
      "metadata": {
        "id": "qgFtfVazE3sf"
      },
      "source": [
        "def get_input_optimizer(input_img):\n",
        "    # this line to show that input is a parameter that requires a gradient\n",
        "    optimizer = optim.LBFGS([input_img.requires_grad_()])\n",
        "    return optimizer"
      ],
      "execution_count": null,
      "outputs": []
    },
    {
      "cell_type": "markdown",
      "metadata": {
        "id": "y_6SdSI6E3si"
      },
      "source": [
        "Finally, we must define a function that performs the neural transfer. For\n",
        "each iteration of the networks, it is fed an updated input and computes\n",
        "new losses. We will run the ``backward`` methods of each loss module to\n",
        "dynamicaly compute their gradients. The optimizer requires a “closure”\n",
        "function, which reevaluates the modul and returns the loss.\n",
        "\n",
        "We still have one final constraint to address. The network may try to\n",
        "optimize the input with values that exceed the 0 to 1 tensor range for\n",
        "the image. We can address this by correcting the input values to be\n",
        "between 0 to 1 each time the network is run.\n",
        "\n",
        "\n"
      ]
    },
    {
      "cell_type": "code",
      "metadata": {
        "id": "qTJrmI_rE3sj"
      },
      "source": [
        "def run_style_transfer(cnn, normalization_mean, normalization_std,\n",
        "                       content_img, style_img, input_img, num_steps=100,\n",
        "                       style_weight=1000000, content_weight=1):\n",
        "    \"\"\"Run the style transfer.\"\"\"\n",
        "    print('Building the style transfer model..')\n",
        "    model, style_losses, content_losses = get_style_model_and_losses(cnn,\n",
        "        normalization_mean, normalization_std, style_img, content_img)\n",
        "    optimizer = get_input_optimizer(input_img)\n",
        "\n",
        "    print('Optimizing..')\n",
        "    run = [0]\n",
        "    while run[0] <= num_steps:\n",
        "\n",
        "        def closure():\n",
        "            # correct the values of updated input image\n",
        "            input_img.data.clamp_(0, 1)\n",
        "\n",
        "            optimizer.zero_grad()\n",
        "            model(input_img)\n",
        "            style_score = 0\n",
        "            content_score = 0\n",
        "\n",
        "            for sl in style_losses:\n",
        "                style_score += sl.loss\n",
        "            for cl in content_losses:\n",
        "                content_score += cl.loss\n",
        "\n",
        "            style_score *= style_weight\n",
        "            content_score *= content_weight\n",
        "\n",
        "            loss = style_score + content_score\n",
        "            loss.backward()\n",
        "\n",
        "            run[0] += 1\n",
        "            if run[0] % 50 == 0:\n",
        "                print(\"run {}:\".format(run))\n",
        "                print('Style Loss : {:4f} Content Loss: {:4f}'.format(\n",
        "                    style_score.item(), content_score.item()))\n",
        "                print()\n",
        "\n",
        "            return style_score + content_score\n",
        "\n",
        "        optimizer.step(closure)\n",
        "\n",
        "    # a last correction...\n",
        "    input_img.data.clamp_(0, 1)\n",
        "\n",
        "    return input_img"
      ],
      "execution_count": null,
      "outputs": []
    },
    {
      "cell_type": "markdown",
      "metadata": {
        "id": "Yry5eSSfE3sm"
      },
      "source": [
        "Finally, we can run the algorithm.\n",
        "\n",
        "\n"
      ]
    },
    {
      "cell_type": "code",
      "metadata": {
        "id": "FgkpnswkE3sm",
        "colab": {
          "base_uri": "https://localhost:8080/",
          "height": 505
        },
        "outputId": "a09a00bb-03cb-4ef8-de0c-05bffcc24b05"
      },
      "source": [
        "import glob\n",
        "from torchvision.utils import save_image\n",
        "\n",
        "content_path = glob.glob(\"/content/phone_UI_2_format.jpg\")\n",
        "style_path = glob.glob(\"/content/skin_cube.jpeg\")\n",
        "\n",
        "i=0\n",
        "\n",
        "for file in content_path:\n",
        "  content_img = image_loader(file)\n",
        "  input_img = content_img.clone()\n",
        "\n",
        "  for file in style_path:\n",
        "    style_img = image_loader(file)\n",
        "\n",
        "    assert style_img.size() == content_img.size(), \"we need to import style and content images of the same size\"\n",
        "\n",
        "    output = run_style_transfer(cnn, cnn_normalization_mean, cnn_normalization_std,\n",
        "                            content_img, style_img, input_img)\n",
        "\n",
        "    plt.figure()\n",
        "    imshow(output, title='Output Image')\n",
        "\n",
        "# sphinx_gallery_thumbnail_number = 4\n",
        "    plt.ioff()\n",
        "    plt.show()\n",
        "\n",
        "    output_path = \"/content/matype-inter-FACE_{0}.jpg\".format(i)\n",
        "    i+=1\n",
        "\n",
        "    output.shape\n",
        "    save_img = output[0] #torch.Size([3,28,28]\n",
        "    save_image(save_img, output_path)\n",
        "\n"
      ],
      "execution_count": null,
      "outputs": [
        {
          "output_type": "stream",
          "text": [
            "Building the style transfer model..\n"
          ],
          "name": "stdout"
        },
        {
          "output_type": "stream",
          "text": [
            "/usr/local/lib/python3.6/dist-packages/ipykernel_launcher.py:12: UserWarning: To copy construct from a tensor, it is recommended to use sourceTensor.clone().detach() or sourceTensor.clone().detach().requires_grad_(True), rather than torch.tensor(sourceTensor).\n",
            "  if sys.path[0] == '':\n",
            "/usr/local/lib/python3.6/dist-packages/ipykernel_launcher.py:13: UserWarning: To copy construct from a tensor, it is recommended to use sourceTensor.clone().detach() or sourceTensor.clone().detach().requires_grad_(True), rather than torch.tensor(sourceTensor).\n",
            "  del sys.path[0]\n"
          ],
          "name": "stderr"
        },
        {
          "output_type": "stream",
          "text": [
            "Optimizing..\n",
            "run [50]:\n",
            "Style Loss : 451.374359 Content Loss: 30.808571\n",
            "\n",
            "run [100]:\n",
            "Style Loss : 385.203613 Content Loss: 29.475201\n",
            "\n"
          ],
          "name": "stdout"
        },
        {
          "output_type": "display_data",
          "data": {
            "image/png": "[encoded data removed]",
            "text/plain": [
              "<Figure size 432x288 with 1 Axes>"
            ]
          },
          "metadata": {
            "tags": [],
            "needs_background": "light"
          }
        }
      ]
    },
    {
      "cell_type": "code",
      "metadata": {
        "id": "qXf6tZ3_RXNy",
        "colab": {
          "base_uri": "https://localhost:8080/",
          "height": 34
        },
        "outputId": "89c6cd92-a965-4b9d-9060-66959c79329b"
      },
      "source": [
        "from google.colab import files\n",
        "\n",
        "!zip -r /content/neural_transf_beta_07.zip /content/output\n",
        "files.download(\"/content/neural_transf_beta_07.zip\")\n"
      ],
      "execution_count": null,
      "outputs": [
        {
          "output_type": "stream",
          "text": [
            "updating: content/output/ (stored 0%)\n"
          ],
          "name": "stdout"
        }
      ]
    },
    {
      "cell_type": "code",
      "metadata": {
        "id": "0QTxQkfg1nwF",
        "colab": {
          "base_uri": "https://localhost:8080/",
          "height": 202
        },
        "outputId": "4279173b-a15b-4f4e-b6b4-514d49f57636"
      },
      "source": [
        "output.shape\n",
        "save_img = output[0] #torch.Size([3,28,28]\n",
        "save_image(save_img, output_path)"
      ],
      "execution_count": null,
      "outputs": [
        {
          "output_type": "error",
          "ename": "NameError",
          "evalue": "ignored",
          "traceback": [
            "\u001b[0;31m---------------------------------------------------------------------------\u001b[0m",
            "\u001b[0;31mNameError\u001b[0m                                 Traceback (most recent call last)",
            "\u001b[0;32m<ipython-input-36-864f77b79d13>\u001b[0m in \u001b[0;36m<module>\u001b[0;34m()\u001b[0m\n\u001b[0;32m----> 1\u001b[0;31m \u001b[0moutput\u001b[0m\u001b[0;34m.\u001b[0m\u001b[0mshape\u001b[0m\u001b[0;34m\u001b[0m\u001b[0;34m\u001b[0m\u001b[0m\n\u001b[0m\u001b[1;32m      2\u001b[0m \u001b[0msave_img\u001b[0m \u001b[0;34m=\u001b[0m \u001b[0moutput\u001b[0m\u001b[0;34m[\u001b[0m\u001b[0;36m0\u001b[0m\u001b[0;34m]\u001b[0m \u001b[0;31m#torch.Size([3,28,28]\u001b[0m\u001b[0;34m\u001b[0m\u001b[0;34m\u001b[0m\u001b[0m\n\u001b[1;32m      3\u001b[0m \u001b[0msave_image\u001b[0m\u001b[0;34m(\u001b[0m\u001b[0msave_img\u001b[0m\u001b[0;34m,\u001b[0m \u001b[0moutput_path\u001b[0m\u001b[0;34m)\u001b[0m\u001b[0;34m\u001b[0m\u001b[0;34m\u001b[0m\u001b[0m\n",
            "\u001b[0;31mNameError\u001b[0m: name 'output' is not defined"
          ]
        }
      ]
    },
    {
      "cell_type": "code",
      "metadata": {
        "id": "XVHJeEhbXgzt"
      },
      "source": [],
      "execution_count": null,
      "outputs": []
    }
  ]
}